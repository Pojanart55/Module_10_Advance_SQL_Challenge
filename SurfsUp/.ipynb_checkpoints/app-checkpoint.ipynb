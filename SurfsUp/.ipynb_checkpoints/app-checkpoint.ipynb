{
 "cells": [
  {
   "cell_type": "code",
   "execution_count": 1,
   "id": "27b2a2ff-9cf3-4bcb-a743-575f0efa6c7c",
   "metadata": {},
   "outputs": [],
   "source": [
    "# Import the dependencies.\n",
    "from flask import Flask, jsonify\n",
    "import sqlalchemy\n",
    "from sqlalchemy.ext.automap import automap_base\n",
    "from sqlalchemy.orm import Session\n",
    "from sqlalchemy import create_engine, func, desc\n",
    "import datetime as dt"
   ]
  },
  {
   "cell_type": "code",
   "execution_count": 2,
   "id": "4cddc632-4a1a-45fd-9ec4-2a293b47d367",
   "metadata": {},
   "outputs": [],
   "source": [
    "#################################################\n",
    "# Database Setup\n",
    "#################################################"
   ]
  },
  {
   "cell_type": "code",
   "execution_count": 3,
   "id": "37caa98d-ec2b-4d53-be52-d3c64e37a733",
   "metadata": {},
   "outputs": [],
   "source": [
    "# Create engine using the `hawaii.sqlite` database file\n",
    "engine = create_engine(\"sqlite:///Resources/hawaii.sqlite\")"
   ]
  },
  {
   "cell_type": "code",
   "execution_count": 4,
   "id": "edd46074-1cef-402c-9dc4-ed8df9a3dce6",
   "metadata": {},
   "outputs": [],
   "source": [
    "# Declare a Base using `automap_base()`\n",
    "Base = automap_base()"
   ]
  },
  {
   "cell_type": "code",
   "execution_count": 5,
   "id": "0aa73530-1c23-4cb2-9e08-3a57c73568cf",
   "metadata": {},
   "outputs": [
    {
     "name": "stderr",
     "output_type": "stream",
     "text": [
      "C:\\Users\\Bim\\AppData\\Local\\Temp\\ipykernel_24756\\3820886506.py:2: SADeprecationWarning: The AutomapBase.prepare.reflect parameter is deprecated and will be removed in a future release.  Reflection is enabled when AutomapBase.prepare.autoload_with is passed.\n",
      "  Base.prepare(engine, reflect=True)\n"
     ]
    }
   ],
   "source": [
    "# Use the Base class to reflect the database tables\n",
    "Base.prepare(engine, reflect=True)"
   ]
  },
  {
   "cell_type": "code",
   "execution_count": 6,
   "id": "6b64f0cb-f259-44b5-a5f1-22484d0bf456",
   "metadata": {},
   "outputs": [],
   "source": [
    "# Assign the measurement class to a variable called `Measurement` and\n",
    "# the station class to a variable called `Station`\n",
    "Measurement = Base.classes.measurement\n",
    "Station = Base.classes.station"
   ]
  },
  {
   "cell_type": "code",
   "execution_count": 7,
   "id": "21677878-a718-4bab-86a4-8f20790a184a",
   "metadata": {},
   "outputs": [],
   "source": [
    "# Create a session\n",
    "session = Session(engine)"
   ]
  },
  {
   "cell_type": "code",
   "execution_count": 8,
   "id": "501821ed-6b16-491d-9cb0-cac12d2b490c",
   "metadata": {},
   "outputs": [],
   "source": [
    "#################################################\n",
    "# Flask Setup\n",
    "#################################################\n",
    "app = Flask(__name__)"
   ]
  },
  {
   "cell_type": "code",
   "execution_count": 9,
   "id": "6519f9ef-ae5f-4565-8eb6-8b4899a744d3",
   "metadata": {},
   "outputs": [],
   "source": [
    "#################################################\n",
    "# Flask Routes\n",
    "#################################################\n",
    "@app.route(\"/\")\n",
    "def home():\n",
    "    \"\"\"List all available api routes.\"\"\"\n",
    "    return (\n",
    "        f\"Available Routes:<br/>\"\n",
    "        f\"/api/v1.0/precipitation<br/>\"\n",
    "        f\"/api/v1.0/stations<br/>\"\n",
    "        f\"/api/v1.0/tobs<br/>\"\n",
    "        f\"/api/v1.0/<start><br/>\"\n",
    "        f\"/api/v1.0/<start>/<end><br/>\"\n",
    "    )"
   ]
  },
  {
   "cell_type": "code",
   "execution_count": 10,
   "id": "9fa07916-e6d4-432f-9e88-71b7a43b9e1c",
   "metadata": {},
   "outputs": [],
   "source": [
    "# /api/v1.0/precipitation Route:\n",
    "@app.route(\"/api/v1.0/precipitation\")\n",
    "def precipitation():\n",
    "    \"\"\"Return the precipitation data for the last 12 months.\"\"\"\n",
    "    most_recent_date = session.query(Measurement.date).order_by(desc(Measurement.date)).first()[0]\n",
    "    one_year_ago = dt.datetime.strptime(most_recent_date, \"%Y-%m-%d\") - dt.timedelta(days=365)\n",
    "\n",
    "    precipitation_data = session.query(Measurement.date, Measurement.prcp).\\\n",
    "        filter(Measurement.date >= one_year_ago).all()\n",
    "\n",
    "    precipitation_dict = {date: prcp for date, prcp in precipitation_data}\n",
    "    return jsonify(precipitation_dict)"
   ]
  },
  {
   "cell_type": "code",
   "execution_count": 11,
   "id": "85be24e2-4450-4b6d-abc8-9b76b7a8ef64",
   "metadata": {},
   "outputs": [],
   "source": [
    "# /api/v1.0/stations Route:\n",
    "@app.route(\"/api/v1.0/stations\")\n",
    "def stations():\n",
    "    \"\"\"Return a JSON list of stations from the dataset.\"\"\"\n",
    "    stations_data = session.query(Station.station).all()\n",
    "    stations_list = [station[0] for station in stations_data]\n",
    "    return jsonify(stations_list)"
   ]
  },
  {
   "cell_type": "code",
   "execution_count": 12,
   "id": "a3e0bcc2-4c47-45bc-9667-a7e48b6f621b",
   "metadata": {},
   "outputs": [],
   "source": [
    "# /api/v1.0/tobs Route:\n",
    "@app.route(\"/api/v1.0/tobs\")\n",
    "def tobs():\n",
    "    \"\"\"Return a JSON list of temperature observations for the previous year.\"\"\"\n",
    "    most_recent_date = session.query(Measurement.date).order_by(desc(Measurement.date)).first()[0]\n",
    "    one_year_ago = dt.datetime.strptime(most_recent_date, \"%Y-%m-%d\") - dt.timedelta(days=365)\n",
    "\n",
    "    most_active_station = session.query(Measurement.station, func.count(Measurement.station)).\\\n",
    "        group_by(Measurement.station).\\\n",
    "        order_by(desc(func.count(Measurement.station))).first()[0]\n",
    "\n",
    "    tobs_data = session.query(Measurement.date, Measurement.tobs).\\\n",
    "        filter(Measurement.station == most_active_station).\\\n",
    "        filter(Measurement.date >= one_year_ago).all()\n",
    "\n",
    "    tobs_list = [{\"date\": date, \"tobs\": tobs} for date, tobs in tobs_data]\n",
    "    return jsonify(tobs_list)"
   ]
  },
  {
   "cell_type": "code",
   "execution_count": 13,
   "id": "85e21f66-ed7c-44cd-81ef-67020a388468",
   "metadata": {},
   "outputs": [],
   "source": [
    "# /api/v1.0/<start> and /api/v1.0/<start>/<end> Routes:\n",
    "@app.route(\"/api/v1.0/<start>\")\n",
    "@app.route(\"/api/v1.0/<start>/<end>\")\n",
    "def temperature_range(start, end=None):\n",
    "    \"\"\"Return TMIN, TAVG, TMAX for a specified start or start-end range.\"\"\"\n",
    "    if end:\n",
    "        temperature_stats = session.query(func.min(Measurement.tobs), func.avg(Measurement.tobs), func.max(Measurement.tobs)).\\\n",
    "            filter(Measurement.date >= start).filter(Measurement.date <= end).all()\n",
    "    else:\n",
    "        temperature_stats = session.query(func.min(Measurement.tobs), func.avg(Measurement.tobs), func.max(Measurement.tobs)).\\\n",
    "            filter(Measurement.date >= start).all()\n",
    "\n",
    "    if temperature_stats:\n",
    "        tmin, tavg, tmax = temperature_stats[0]\n",
    "        return jsonify({\"TMIN\": tmin, \"TAVG\": tavg, \"TMAX\": tmax})\n",
    "    else:\n",
    "        return jsonify({\"error\": \"Date range not found.\"}), 404"
   ]
  },
  {
   "cell_type": "code",
   "execution_count": null,
   "id": "8c192787-7d9a-43cd-9eb2-5a05b2b67b25",
   "metadata": {},
   "outputs": [],
   "source": []
  }
 ],
 "metadata": {
  "kernelspec": {
   "display_name": "Python 3 (ipykernel)",
   "language": "python",
   "name": "python3"
  },
  "language_info": {
   "codemirror_mode": {
    "name": "ipython",
    "version": 3
   },
   "file_extension": ".py",
   "mimetype": "text/x-python",
   "name": "python",
   "nbconvert_exporter": "python",
   "pygments_lexer": "ipython3",
   "version": "3.10.16"
  }
 },
 "nbformat": 4,
 "nbformat_minor": 5
}
